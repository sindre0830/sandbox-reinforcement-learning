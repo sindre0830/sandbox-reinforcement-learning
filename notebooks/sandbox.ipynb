{
 "cells": [
  {
   "cell_type": "code",
   "execution_count": 1,
   "metadata": {},
   "outputs": [],
   "source": [
    "import sandbox_rl.application.learning_agents as la\n",
    "import sandbox_rl.application.game_states as gs\n",
    "import sandbox_rl.application.game_agents as ga\n",
    "import sandbox_rl.core.models as models\n"
   ]
  },
  {
   "cell_type": "code",
   "execution_count": 2,
   "metadata": {},
   "outputs": [],
   "source": [
    "learning_agent = la.MCTS(\n",
    "    initial_game_state=gs.TicTacToe(),\n",
    "    game_agent=ga.RandomAgent(),\n",
    "    replay_buffer=models.ReplayBuffer(),\n",
    "    episodes=1,\n",
    "    simulations=10,\n",
    ")\n"
   ]
  },
  {
   "cell_type": "code",
   "execution_count": 3,
   "metadata": {},
   "outputs": [],
   "source": [
    "learning_agent.execute()\n"
   ]
  }
 ],
 "metadata": {
  "kernelspec": {
   "display_name": ".venv",
   "language": "python",
   "name": "python3"
  },
  "language_info": {
   "codemirror_mode": {
    "name": "ipython",
    "version": 3
   },
   "file_extension": ".py",
   "mimetype": "text/x-python",
   "name": "python",
   "nbconvert_exporter": "python",
   "pygments_lexer": "ipython3",
   "version": "3.12.3"
  }
 },
 "nbformat": 4,
 "nbformat_minor": 2
}
